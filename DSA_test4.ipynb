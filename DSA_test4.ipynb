{
 "cells": [
  {
   "cell_type": "markdown",
   "id": "58483dc5",
   "metadata": {},
   "source": [
    "Implement a stack using a list in Python. Include the necessary methods such as push, pop, and isEmpty."
   ]
  },
  {
   "cell_type": "code",
   "execution_count": 1,
   "id": "c676f57f",
   "metadata": {},
   "outputs": [
    {
     "name": "stdout",
     "output_type": "stream",
     "text": [
      "3\n",
      "2\n",
      "False\n"
     ]
    }
   ],
   "source": [
    "class Stack:\n",
    "    def __init__(self):\n",
    "        self.stack = []\n",
    "\n",
    "    def push(self, item):\n",
    "        self.stack.append(item)\n",
    "\n",
    "    def pop(self):\n",
    "        if not self.is_empty():\n",
    "            return self.stack.pop()\n",
    "        else:\n",
    "            print(\"Error: Stack is empty.\")\n",
    "\n",
    "    def is_empty(self):\n",
    "        return len(self.stack) == 0\n",
    "# create a new stack object\n",
    "stack = Stack()  \n",
    "# push elements onto the stack\n",
    "stack.push(1) \n",
    "stack.push(2)\n",
    "stack.push(3)\n",
    "# pop the top element (3)\n",
    "print(stack.pop())  \n",
    " # pop the next element (2)\n",
    "print(stack.pop()) \n",
    "# check if the stack is empty (False)\n",
    "print(stack.is_empty())  \n"
   ]
  },
  {
   "cell_type": "markdown",
   "id": "bbd356f9",
   "metadata": {},
   "source": [
    "Implement a queue using a list in Python. Include the necessary methods such as enqueue, dequeue, and isEmpty."
   ]
  },
  {
   "cell_type": "code",
   "execution_count": 3,
   "id": "d707f27f",
   "metadata": {},
   "outputs": [
    {
     "name": "stdout",
     "output_type": "stream",
     "text": [
      "1\n",
      "2\n",
      "False\n"
     ]
    }
   ],
   "source": [
    "class Queue:\n",
    "    def __init__(self):\n",
    "        self.queue = []\n",
    "\n",
    "    def enqueue(self, item):\n",
    "        self.queue.append(item)\n",
    "\n",
    "    def dequeue(self):\n",
    "        if not self.is_empty():\n",
    "            return self.queue.pop(0)\n",
    "        else:\n",
    "            print(\"Error: Queue is empty.\")\n",
    "\n",
    "    def is_empty(self):\n",
    "        return len(self.queue) == 0\n",
    "# create a new queue object\n",
    "queue = Queue()\n",
    " # enqueue elements\n",
    "queue.enqueue(1) \n",
    "queue.enqueue(2)\n",
    "queue.enqueue(3)\n",
    " # dequeue the frontmost element (1)\n",
    "print(queue.dequeue()) \n",
    " # dequeue the next element (2)\n",
    "print(queue.dequeue()) \n",
    "# check if the queue is empty (False)\n",
    "print(queue.is_empty())  \n",
    "\n"
   ]
  },
  {
   "cell_type": "code",
   "execution_count": null,
   "id": "3975168c",
   "metadata": {},
   "outputs": [],
   "source": []
  }
 ],
 "metadata": {
  "kernelspec": {
   "display_name": "Python 3 (ipykernel)",
   "language": "python",
   "name": "python3"
  },
  "language_info": {
   "codemirror_mode": {
    "name": "ipython",
    "version": 3
   },
   "file_extension": ".py",
   "mimetype": "text/x-python",
   "name": "python",
   "nbconvert_exporter": "python",
   "pygments_lexer": "ipython3",
   "version": "3.10.9"
  }
 },
 "nbformat": 4,
 "nbformat_minor": 5
}
