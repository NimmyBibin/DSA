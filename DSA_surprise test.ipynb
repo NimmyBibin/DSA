{
 "cells": [
  {
   "cell_type": "markdown",
   "id": "49b2750a",
   "metadata": {},
   "source": [
    "Given an integer array nums, move all 0's to the end of it while maintaining the relative order of the non-zero elements.\n",
    "\n",
    "Note that you must do this in-place without making a copy of the array.\n",
    "\n",
    "Example 1:\n",
    "Input: nums = [0,1,0,3,12]\n",
    "Output: [1,3,12,0,0]\n",
    "\n",
    "Example 2:\n",
    "Input: nums = [0]\n",
    "Output: [0]\n",
    "\n",
    "Constraints:\n",
    "a. 1 <= nums.length <= 10^4\n",
    "b. -2^31 <= nums[i] <= 2^31 - 1\n"
   ]
  },
  {
   "cell_type": "code",
   "execution_count": 3,
   "id": "fc09799e",
   "metadata": {},
   "outputs": [
    {
     "name": "stdout",
     "output_type": "stream",
     "text": [
      "[1, 3, 12, 0, 0]\n",
      "[0]\n"
     ]
    }
   ],
   "source": [
    "def NonZeroes(nums):\n",
    "    # Initialize pointers\n",
    "    next_non_zero = 0\n",
    "\n",
    "    # Iterate through the array\n",
    "    for i in range(len(nums)):\n",
    "        if nums[i] != 0:\n",
    "            # Swap the non-zero element to the next_non_zero position\n",
    "            nums[i], nums[next_non_zero] = nums[next_non_zero], nums[i]\n",
    "            next_non_zero += 1\n",
    "\n",
    "    return nums\n",
    "# Example 1\n",
    "nums1 = [0, 1, 0, 3, 12]\n",
    "print(NonZeroes(nums1))\n",
    "\n",
    "\n",
    "# Example 2\n",
    "nums2 = [0]\n",
    "print(NonZeroes(nums2))\n",
    "\n"
   ]
  },
  {
   "cell_type": "markdown",
   "id": "32101408",
   "metadata": {},
   "source": [
    "First Unique Character in a String\n",
    "\n",
    "Given a string s, find the first non-repeating character in it and return its index. If it does not exist, return -1.\n",
    "\n",
    "Example 1:\n",
    "Input: s = \"leetcode\"\n",
    "Output: 0\n",
    "\n",
    "Example 2:\n",
    "Input: s = \"loveleetcode\"\n",
    "Output: 2\n",
    "\n",
    "Example 3:\n",
    "Input: s = \"aabb\"\n",
    "Output: -1\n"
   ]
  },
  {
   "cell_type": "code",
   "execution_count": 4,
   "id": "ccdcb283",
   "metadata": {},
   "outputs": [
    {
     "name": "stdout",
     "output_type": "stream",
     "text": [
      "0\n",
      "2\n",
      "-1\n"
     ]
    }
   ],
   "source": [
    "def UniqChar(s):\n",
    "    # Create a dictionary to store character frequencies\n",
    "    char_freq = {}\n",
    "\n",
    "    # Count the frequency of each character\n",
    "    for char in s:\n",
    "        char_freq[char] = char_freq.get(char, 0) + 1\n",
    "\n",
    "    # Find the first non-repeating character\n",
    "    for i, char in enumerate(s):\n",
    "        if char_freq[char] == 1:\n",
    "            return i\n",
    "\n",
    "    #  if No non-repeating character found\n",
    "    return -1\n",
    "# Example 1\n",
    "s1 = \"leetcode\"\n",
    "print(UniqChar(s1))\n",
    "# Output: 0\n",
    "\n",
    "# Example 2\n",
    "s2 = \"loveleetcode\"\n",
    "print(UniqChar(s2))\n",
    "# Output: 2\n",
    "\n",
    "# Example 3\n",
    "s3 = \"aabb\"\n",
    "print(UniqChar(s3))\n",
    "# Output: -1\n",
    "\n"
   ]
  },
  {
   "cell_type": "code",
   "execution_count": null,
   "id": "a7e7b913",
   "metadata": {},
   "outputs": [],
   "source": []
  }
 ],
 "metadata": {
  "kernelspec": {
   "display_name": "Python 3 (ipykernel)",
   "language": "python",
   "name": "python3"
  },
  "language_info": {
   "codemirror_mode": {
    "name": "ipython",
    "version": 3
   },
   "file_extension": ".py",
   "mimetype": "text/x-python",
   "name": "python",
   "nbconvert_exporter": "python",
   "pygments_lexer": "ipython3",
   "version": "3.10.9"
  }
 },
 "nbformat": 4,
 "nbformat_minor": 5
}
